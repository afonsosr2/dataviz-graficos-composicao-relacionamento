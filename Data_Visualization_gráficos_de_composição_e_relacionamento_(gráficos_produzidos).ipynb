{
  "nbformat": 4,
  "nbformat_minor": 0,
  "metadata": {
    "colab": {
      "provenance": []
    },
    "kernelspec": {
      "name": "python3",
      "display_name": "Python 3"
    },
    "language_info": {
      "name": "python"
    }
  },
  "cells": [
    {
      "cell_type": "markdown",
      "source": [
        "# **Gráficos de Composição**\n",
        "\n",
        "\n"
      ],
      "metadata": {
        "id": "UHgmGgEbNbBl"
      }
    },
    {
      "cell_type": "markdown",
      "source": [
        "## **Gráfico de pizza**"
      ],
      "metadata": {
        "id": "QG9-klVCNkXk"
      }
    },
    {
      "cell_type": "markdown",
      "source": [
        "![Gráfico de colunas](https://github.com/afonsosr2/dataviz-graficos-composicao-relacionamento/blob/4d6ed288ce12c59ad4dde53b7b5156ba675e775b/imagens/Tipos_Graficos/graficos/pizza_regioes_2002_2020.png?raw=true)"
      ],
      "metadata": {
        "id": "bRV2wx5KSBcE"
      }
    },
    {
      "cell_type": "markdown",
      "source": [
        "## **Gráfico rosca**"
      ],
      "metadata": {
        "id": "j-EyEJ2pNkUu"
      }
    },
    {
      "cell_type": "markdown",
      "source": [
        "![](https://github.com/afonsosr2/dataviz-graficos-composicao-relacionamento/blob/4d6ed288ce12c59ad4dde53b7b5156ba675e775b/imagens/Tipos_Graficos/graficos/rosca.png?raw=true)"
      ],
      "metadata": {
        "id": "bUfFR9vaNkR8"
      }
    },
    {
      "cell_type": "markdown",
      "source": [
        "## **Gráfico de cascata**"
      ],
      "metadata": {
        "id": "QqsH4dcFNkPf"
      }
    },
    {
      "cell_type": "markdown",
      "source": [
        "![](https://github.com/afonsosr2/dataviz-graficos-composicao-relacionamento/blob/4d6ed288ce12c59ad4dde53b7b5156ba675e775b/imagens/Tipos_Graficos/graficos/grafico_cascata_decrescimos_acrescimos.png?raw=true)"
      ],
      "metadata": {
        "id": "AsG-xJ0KUbdE"
      }
    },
    {
      "cell_type": "markdown",
      "source": [
        "## **Gráfico de colunas agrupadas x empilhadas**"
      ],
      "metadata": {
        "id": "Yv-kHhJnNkMc"
      }
    },
    {
      "cell_type": "markdown",
      "source": [
        "![](https://github.com/afonsosr2/dataviz-graficos-composicao-relacionamento/blob/4d6ed288ce12c59ad4dde53b7b5156ba675e775b/imagens/Tipos_Graficos/graficos/grafico_colunas_agrupadas_empilhadas.png?raw=true)"
      ],
      "metadata": {
        "id": "J3aETDpuUcMU"
      }
    },
    {
      "cell_type": "markdown",
      "source": [
        "## **Gráfico de áreas**"
      ],
      "metadata": {
        "id": "1t6QivMmNkJs"
      }
    },
    {
      "cell_type": "markdown",
      "source": [
        "![](https://github.com/afonsosr2/dataviz-graficos-composicao-relacionamento/blob/4d6ed288ce12c59ad4dde53b7b5156ba675e775b/imagens/Tipos_Graficos/graficos/grafico_area.png?raw=true)"
      ],
      "metadata": {
        "id": "AObFqzNqUcpM"
      }
    },
    {
      "cell_type": "markdown",
      "source": [
        "## **Gráfico de inclinação**"
      ],
      "metadata": {
        "id": "6zyarJVcNkG9"
      }
    },
    {
      "cell_type": "markdown",
      "source": [
        "![](https://github.com/afonsosr2/dataviz-graficos-composicao-relacionamento/blob/4d6ed288ce12c59ad4dde53b7b5156ba675e775b/imagens/Tipos_Graficos/graficos/grafico_inclinacao.png?raw=true)"
      ],
      "metadata": {
        "id": "qnZF8pHkUdOc"
      }
    },
    {
      "cell_type": "markdown",
      "source": [
        "# **Gráficos de Relacionamento**"
      ],
      "metadata": {
        "id": "C7nMKiZLKX3A"
      }
    },
    {
      "cell_type": "markdown",
      "source": [
        "## **Gráficos de dispersão**"
      ],
      "metadata": {
        "id": "9ts_XKkZUImZ"
      }
    },
    {
      "cell_type": "markdown",
      "source": [
        "### **Gráfico de dispersão com linha de tendência**"
      ],
      "metadata": {
        "id": "nkKLOQ_qV8xN"
      }
    },
    {
      "cell_type": "markdown",
      "source": [
        "![](https://github.com/afonsosr2/dataviz-graficos-composicao-relacionamento/blob/4d6ed288ce12c59ad4dde53b7b5156ba675e775b/imagens/Tipos_Graficos/graficos/grafico_dispersao.png?raw=true)"
      ],
      "metadata": {
        "id": "4bXdZHSTUeJt"
      }
    },
    {
      "cell_type": "markdown",
      "source": [
        "### **Gráfico de dispersão com cores**"
      ],
      "metadata": {
        "id": "uPEGU38-V_oV"
      }
    },
    {
      "cell_type": "markdown",
      "source": [
        "![](https://github.com/afonsosr2/dataviz-graficos-composicao-relacionamento/blob/4d6ed288ce12c59ad4dde53b7b5156ba675e775b/imagens/Tipos_Graficos/graficos/grafico_dispersao_cores.png?raw=true)"
      ],
      "metadata": {
        "id": "XIoNKspSUd1G"
      }
    },
    {
      "cell_type": "markdown",
      "source": [
        "## **Gráfico de bolhas**"
      ],
      "metadata": {
        "id": "PylTP8w0UIeh"
      }
    },
    {
      "cell_type": "markdown",
      "source": [
        "![](https://github.com/afonsosr2/dataviz-graficos-composicao-relacionamento/blob/4d6ed288ce12c59ad4dde53b7b5156ba675e775b/imagens/Tipos_Graficos/graficos/grafico_bolhas.png?raw=true)"
      ],
      "metadata": {
        "id": "pgSsEymLUfiV"
      }
    }
  ]
}